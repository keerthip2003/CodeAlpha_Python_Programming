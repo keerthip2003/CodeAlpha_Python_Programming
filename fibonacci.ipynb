{
  "nbformat": 4,
  "nbformat_minor": 0,
  "metadata": {
    "colab": {
      "provenance": []
    },
    "kernelspec": {
      "name": "python3",
      "display_name": "Python 3"
    },
    "language_info": {
      "name": "python"
    }
  },
  "cells": [
    {
      "cell_type": "code",
      "execution_count": null,
      "metadata": {
        "id": "6zspwR0L_I-n"
      },
      "outputs": [],
      "source": [
        "def fibonacci(n):\n",
        "    fib_sequence = [0, 1]\n",
        "    while len(fib_sequence) < n:\n",
        "        fib_sequence.append(fib_sequence[-1] + fib_sequence[-2])\n",
        "    return fib_sequence[:n]\n"
      ]
    },
    {
      "cell_type": "code",
      "source": [
        "n = 12\n",
        "fib_series = fibonacci(n)\n",
        "print(\"Fibonacci Series up to\", n, \"terms:\", fib_series)"
      ],
      "metadata": {
        "colab": {
          "base_uri": "https://localhost:8080/"
        },
        "id": "T3uyJrkMWKzb",
        "outputId": "6d71b1d6-fefd-4c81-cb44-92c5570e58dd"
      },
      "execution_count": null,
      "outputs": [
        {
          "output_type": "stream",
          "name": "stdout",
          "text": [
            "Fibonacci Series up to 12 terms: [0, 1, 1, 2, 3, 5, 8, 13, 21, 34, 55, 89]\n"
          ]
        }
      ]
    },
    {
      "cell_type": "code",
      "source": [
        "n = 8\n",
        "fib_series = fibonacci(n)\n",
        "print(\"Fibonacci Series up to\", n, \"terms:\", fib_series)"
      ],
      "metadata": {
        "id": "9qAh2Y1RZjJ3",
        "outputId": "de4d10a8-549b-4cb5-df2c-9e3128f7b6c7",
        "colab": {
          "base_uri": "https://localhost:8080/"
        }
      },
      "execution_count": null,
      "outputs": [
        {
          "output_type": "stream",
          "name": "stdout",
          "text": [
            "Fibonacci Series up to 8 terms: [0, 1, 1, 2, 3, 5, 8, 13]\n"
          ]
        }
      ]
    }
  ]
}